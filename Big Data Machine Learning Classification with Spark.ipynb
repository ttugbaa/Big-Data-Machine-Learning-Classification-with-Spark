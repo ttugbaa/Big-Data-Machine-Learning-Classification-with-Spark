{
 "cells": [
  {
   "cell_type": "markdown",
   "id": "f92d607d-641a-4ebb-b390-e607c9c4283a",
   "metadata": {
    "id": "f92d607d-641a-4ebb-b390-e607c9c4283a"
   },
   "source": [
    "# Big Data Machine Learning Classification with Spark"
   ]
  },
  {
   "cell_type": "markdown",
   "id": "f9038e4a-c3b5-4ed8-86d6-27c4763a6290",
   "metadata": {
    "id": "f9038e4a-c3b5-4ed8-86d6-27c4763a6290"
   },
   "source": [
    "With this project, we will create a machine learning model to predict customers' behavior using spark and evaluate the performance of this model."
   ]
  },
  {
   "cell_type": "markdown",
   "id": "AycwrXOP9VCS",
   "metadata": {
    "id": "AycwrXOP9VCS"
   },
   "source": [
    "### Install Spark"
   ]
  },
  {
   "cell_type": "code",
   "execution_count": 1,
   "id": "iM1PNKJ_5iqK",
   "metadata": {
    "id": "iM1PNKJ_5iqK"
   },
   "outputs": [],
   "source": [
    "#pip install pyspark"
   ]
  },
  {
   "cell_type": "markdown",
   "id": "dcd8cb5b-befe-498b-80f9-28fe6d7970a4",
   "metadata": {
    "id": "dcd8cb5b-befe-498b-80f9-28fe6d7970a4"
   },
   "source": [
    "### Import Libraries"
   ]
  },
  {
   "cell_type": "code",
   "execution_count": 2,
   "id": "ad203498-5e88-415f-ac88-2f2f779a3cd3",
   "metadata": {
    "id": "ad203498-5e88-415f-ac88-2f2f779a3cd3"
   },
   "outputs": [],
   "source": [
    "from pyspark.sql import SparkSession\n",
    "from pyspark.ml.feature import VectorAssembler\n",
    "from pyspark.ml.classification import GBTClassifier\n",
    "from pyspark.ml.evaluation import BinaryClassificationEvaluator\n",
    "from pyspark.ml.evaluation import MulticlassClassificationEvaluator\n",
    "from pyspark.sql.functions import rand"
   ]
  },
  {
   "cell_type": "code",
   "execution_count": 3,
   "id": "tFHSq9qe9iC5",
   "metadata": {
    "id": "tFHSq9qe9iC5"
   },
   "outputs": [],
   "source": [
    "# Step 1: Initialize Spark\n",
    "spark = SparkSession.builder.appName(\"Customers'BehaviorPrediction\").getOrCreate()"
   ]
  },
  {
   "cell_type": "code",
   "execution_count": 4,
   "id": "EOIYYFZx9iGU",
   "metadata": {
    "id": "EOIYYFZx9iGU"
   },
   "outputs": [],
   "source": [
    "# Step 2: Load the dataset\n",
    "data = spark.read.csv(\"churn.csv\", inferSchema=True, header=True)"
   ]
  },
  {
   "cell_type": "code",
   "execution_count": 5,
   "id": "LqMWFe3O9iLW",
   "metadata": {
    "colab": {
     "base_uri": "https://localhost:8080/"
    },
    "id": "LqMWFe3O9iLW",
    "outputId": "fc9dc739-4106-4f66-8021-2bbd7a3dbf51"
   },
   "outputs": [
    {
     "data": {
      "text/plain": [
       "DataFrame[_c0: int, Names: string, Age: double, Total_Purchase: double, Account_Manager: int, Years: double, Num_Sites: double, Churn: int]"
      ]
     },
     "execution_count": 5,
     "metadata": {},
     "output_type": "execute_result"
    }
   ],
   "source": [
    "data"
   ]
  },
  {
   "cell_type": "code",
   "execution_count": 6,
   "id": "grkusXUWISbN",
   "metadata": {
    "colab": {
     "base_uri": "https://localhost:8080/"
    },
    "id": "grkusXUWISbN",
    "outputId": "69427e00-96c0-4bec-85d7-e2e07542dc1c"
   },
   "outputs": [
    {
     "data": {
      "text/plain": [
       "900"
      ]
     },
     "execution_count": 6,
     "metadata": {},
     "output_type": "execute_result"
    }
   ],
   "source": [
    "data.count()   #number of rows"
   ]
  },
  {
   "cell_type": "code",
   "execution_count": 7,
   "id": "SpKVOCJgIYow",
   "metadata": {
    "colab": {
     "base_uri": "https://localhost:8080/"
    },
    "id": "SpKVOCJgIYow",
    "outputId": "ccb9fc2b-c541-411a-b25c-1ad3372d5878"
   },
   "outputs": [
    {
     "data": {
      "text/plain": [
       "8"
      ]
     },
     "execution_count": 7,
     "metadata": {},
     "output_type": "execute_result"
    }
   ],
   "source": [
    "len(data.columns)   #number of cols"
   ]
  },
  {
   "cell_type": "code",
   "execution_count": 8,
   "id": "7A4vClG9_X5d",
   "metadata": {
    "colab": {
     "base_uri": "https://localhost:8080/"
    },
    "id": "7A4vClG9_X5d",
    "outputId": "996fc3e9-7de2-405c-c698-50bb0ff7fa4e"
   },
   "outputs": [
    {
     "name": "stdout",
     "output_type": "stream",
     "text": [
      "+---+----------------+----+--------------+---------------+-----+---------+-----+\n",
      "|_c0|           Names| Age|Total_Purchase|Account_Manager|Years|Num_Sites|Churn|\n",
      "+---+----------------+----+--------------+---------------+-----+---------+-----+\n",
      "|  0|Cameron Williams|42.0|       11066.8|              0| 7.22|      8.0|    1|\n",
      "|  1|   Kevin Mueller|41.0|      11916.22|              0|  6.5|     11.0|    1|\n",
      "|  2|     Eric Lozano|38.0|      12884.75|              0| 6.67|     12.0|    1|\n",
      "|  3|   Phillip White|42.0|       8010.76|              0| 6.71|     10.0|    1|\n",
      "|  4|  Cynthia Norton|37.0|       9191.58|              0| 5.56|      9.0|    1|\n",
      "+---+----------------+----+--------------+---------------+-----+---------+-----+\n",
      "only showing top 5 rows\n",
      "\n"
     ]
    }
   ],
   "source": [
    "data.show(5)"
   ]
  },
  {
   "cell_type": "code",
   "execution_count": 9,
   "id": "BznJ0xEp9scY",
   "metadata": {
    "id": "BznJ0xEp9scY"
   },
   "outputs": [],
   "source": [
    "# Step 3: Prepare the data for training\n",
    "feature_columns = data.columns[:-1]\n",
    "# Remove the \"Names\" column\n",
    "if \"Names\" in feature_columns:\n",
    "    feature_columns.remove(\"Names\")\n",
    "assembler = VectorAssembler(inputCols=feature_columns, outputCol=\"features\")\n",
    "data = assembler.transform(data).select(\"features\", \"Churn\")"
   ]
  },
  {
   "cell_type": "code",
   "execution_count": 10,
   "id": "yQG7GYFX_l2V",
   "metadata": {
    "colab": {
     "base_uri": "https://localhost:8080/"
    },
    "id": "yQG7GYFX_l2V",
    "outputId": "28d7b643-99b8-4314-b759-ea797be8a177"
   },
   "outputs": [
    {
     "name": "stdout",
     "output_type": "stream",
     "text": [
      "+--------------------+-----+\n",
      "|            features|Churn|\n",
      "+--------------------+-----+\n",
      "|[826.0,33.0,12249...|    0|\n",
      "|[619.0,45.0,8871....|    0|\n",
      "|[501.0,40.0,10762...|    0|\n",
      "|[653.0,25.0,9672....|    0|\n",
      "|[886.0,46.0,13547...|    0|\n",
      "|[846.0,44.0,5002....|    0|\n",
      "|[894.0,45.0,4863....|    0|\n",
      "|[9.0,40.0,8066.94...|    1|\n",
      "|[442.0,40.0,10780...|    0|\n",
      "|[694.0,41.0,8907....|    0|\n",
      "+--------------------+-----+\n",
      "\n"
     ]
    }
   ],
   "source": [
    "data_random = data.orderBy(rand()).limit(10)\n",
    "data_random.show()"
   ]
  },
  {
   "cell_type": "code",
   "execution_count": 11,
   "id": "WKUI5o_X9sfG",
   "metadata": {
    "id": "WKUI5o_X9sfG"
   },
   "outputs": [],
   "source": [
    "# Step 4: Split the data into training and testing sets\n",
    "train_data, test_data = data.randomSplit([0.7, 0.3], seed=42)"
   ]
  },
  {
   "cell_type": "code",
   "execution_count": 12,
   "id": "7oriFXm3AKk1",
   "metadata": {
    "colab": {
     "base_uri": "https://localhost:8080/"
    },
    "id": "7oriFXm3AKk1",
    "outputId": "b2c64f80-553f-4e71-95c1-f5ab0314600a"
   },
   "outputs": [
    {
     "name": "stdout",
     "output_type": "stream",
     "text": [
      "+--------------------+-----+\n",
      "|            features|Churn|\n",
      "+--------------------+-----+\n",
      "|[0.0,42.0,11066.8...|    1|\n",
      "|[1.0,41.0,11916.2...|    1|\n",
      "|[3.0,42.0,8010.76...|    1|\n",
      "+--------------------+-----+\n",
      "only showing top 3 rows\n",
      "\n"
     ]
    }
   ],
   "source": [
    "train_data.show(3)"
   ]
  },
  {
   "cell_type": "code",
   "execution_count": 13,
   "id": "JJevP4NtAT3I",
   "metadata": {
    "colab": {
     "base_uri": "https://localhost:8080/"
    },
    "id": "JJevP4NtAT3I",
    "outputId": "5c53eb83-3cab-4770-9dea-5842a9b911a9"
   },
   "outputs": [
    {
     "name": "stdout",
     "output_type": "stream",
     "text": [
      "+--------------------+-----+\n",
      "|            features|Churn|\n",
      "+--------------------+-----+\n",
      "|[2.0,38.0,12884.7...|    1|\n",
      "|[6.0,44.0,11331.5...|    1|\n",
      "|[8.0,43.0,14062.6...|    1|\n",
      "+--------------------+-----+\n",
      "only showing top 3 rows\n",
      "\n"
     ]
    }
   ],
   "source": [
    "test_data.show(3)"
   ]
  },
  {
   "cell_type": "code",
   "execution_count": 14,
   "id": "OI7m0Kl59sh4",
   "metadata": {
    "id": "OI7m0Kl59sh4"
   },
   "outputs": [],
   "source": [
    "# Step 5: Train a logistic regression model\n",
    "gbt = GBTClassifier(labelCol=\"Churn\", featuresCol=\"features\")\n",
    "model = gbt.fit(train_data)"
   ]
  },
  {
   "cell_type": "code",
   "execution_count": 15,
   "id": "CobxQTyS9sm5",
   "metadata": {
    "id": "CobxQTyS9sm5"
   },
   "outputs": [],
   "source": [
    "# Step 6: Make predictions on the test data\n",
    "predictions = model.transform(test_data)"
   ]
  },
  {
   "cell_type": "code",
   "execution_count": 16,
   "id": "gxYDI4fV_1Dw",
   "metadata": {
    "colab": {
     "base_uri": "https://localhost:8080/"
    },
    "id": "gxYDI4fV_1Dw",
    "outputId": "0a1c5259-df15-4399-b91c-a3cd88033d00"
   },
   "outputs": [
    {
     "name": "stdout",
     "output_type": "stream",
     "text": [
      "+--------------------+-----+--------------------+--------------------+----------+\n",
      "|            features|Churn|       rawPrediction|         probability|prediction|\n",
      "+--------------------+-----+--------------------+--------------------+----------+\n",
      "|[2.0,38.0,12884.7...|    1|[-1.5435020027249...|[0.04364652142729...|       1.0|\n",
      "|[6.0,44.0,11331.5...|    1|[-1.5435020027249...|[0.04364652142729...|       1.0|\n",
      "|[8.0,43.0,14062.6...|    1|[-1.5435020027249...|[0.04364652142729...|       1.0|\n",
      "|[9.0,40.0,8066.94...|    1|[-1.5435020027249...|[0.04364652142729...|       1.0|\n",
      "|[13.0,40.0,8283.3...|    1|[-1.5435020027249...|[0.04364652142729...|       1.0|\n",
      "|[14.0,41.0,6569.8...|    1|[-1.5435020027249...|[0.04364652142729...|       1.0|\n",
      "|[15.0,38.0,10494....|    1|[-1.5435020027249...|[0.04364652142729...|       1.0|\n",
      "|[19.0,46.0,8046.4...|    1|[-1.5435020027249...|[0.04364652142729...|       1.0|\n",
      "|[21.0,56.0,12217....|    1|[-1.5435020027249...|[0.04364652142729...|       1.0|\n",
      "|[23.0,41.0,10474....|    1|[-1.5435020027249...|[0.04364652142729...|       1.0|\n",
      "|[24.0,55.0,11158....|    1|[-1.5435020027249...|[0.04364652142729...|       1.0|\n",
      "|[28.0,44.0,12721....|    1|[-1.5435020027249...|[0.04364652142729...|       1.0|\n",
      "|[29.0,37.0,8284.8...|    1|[-1.5435020027249...|[0.04364652142729...|       1.0|\n",
      "|[30.0,54.0,10661....|    1|[-1.5435020027249...|[0.04364652142729...|       1.0|\n",
      "|[32.0,46.0,9322.4...|    1|[-1.5435020027249...|[0.04364652142729...|       1.0|\n",
      "|[34.0,48.0,11740....|    1|[-1.5435020027249...|[0.04364652142729...|       1.0|\n",
      "|[35.0,37.0,14383....|    1|[-1.5435020027249...|[0.04364652142729...|       1.0|\n",
      "|[39.0,41.0,7777.3...|    1|[-1.5435020027249...|[0.04364652142729...|       1.0|\n",
      "|[42.0,36.0,10484....|    1|[-1.5435020027249...|[0.04364652142729...|       1.0|\n",
      "|[43.0,37.0,8736.0...|    1|[-1.5435020027249...|[0.04364652142729...|       1.0|\n",
      "+--------------------+-----+--------------------+--------------------+----------+\n",
      "only showing top 20 rows\n",
      "\n"
     ]
    }
   ],
   "source": [
    "predictions.show()"
   ]
  },
  {
   "cell_type": "code",
   "execution_count": 17,
   "id": "M5tysyF69spk",
   "metadata": {
    "colab": {
     "base_uri": "https://localhost:8080/"
    },
    "id": "M5tysyF69spk",
    "outputId": "f0dd790e-79af-47e2-8df5-8870253e2c6e"
   },
   "outputs": [
    {
     "name": "stdout",
     "output_type": "stream",
     "text": [
      "Accuracy: 0.9973262032085561 F1 Score: 0.9957254758004819\n"
     ]
    }
   ],
   "source": [
    "# Step 7: Evaluate the model\n",
    "evaluator1 = BinaryClassificationEvaluator(labelCol=\"Churn\")\n",
    "accuracy = evaluator1.evaluate(predictions)\n",
    "\n",
    "evaluator2 = MulticlassClassificationEvaluator(labelCol=\"Churn\", metricName=\"f1\")\n",
    "f1_score = evaluator2.evaluate(predictions)\n",
    "\n",
    "print(\"Accuracy:\", accuracy, \"F1 Score:\", f1_score)"
   ]
  }
 ],
 "metadata": {
  "colab": {
   "provenance": []
  },
  "kernelspec": {
   "display_name": "Python 3 (ipykernel)",
   "language": "python",
   "name": "python3"
  },
  "language_info": {
   "codemirror_mode": {
    "name": "ipython",
    "version": 3
   },
   "file_extension": ".py",
   "mimetype": "text/x-python",
   "name": "python",
   "nbconvert_exporter": "python",
   "pygments_lexer": "ipython3",
   "version": "3.11.7"
  }
 },
 "nbformat": 4,
 "nbformat_minor": 5
}
